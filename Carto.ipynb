{
 "cells": [
  {
   "cell_type": "markdown",
   "metadata": {},
   "source": [
    "# Dataset Prix au m²"
   ]
  },
  {
   "cell_type": "code",
   "execution_count": null,
   "metadata": {},
   "outputs": [],
   "source": [
    "import pandas as pd\n",
    "import seaborn as sns\n",
    "\n",
    "path = \"C:/Users/Admin/OneDrive/Documents/M2 SISE/Machine learning sous Python/Projet python/Machine_Learning/\"\n",
    "#Test sur le csv concat\n",
    "D = pd.read_csv(filepath_or_buffer= path + \"concat_prix_m2.csv\", sep=\"|\", decimal=\".\")"
   ]
  },
  {
   "cell_type": "code",
   "execution_count": null,
   "metadata": {},
   "outputs": [],
   "source": [
    "df = D\n",
    "df.shape"
   ]
  },
  {
   "cell_type": "code",
   "execution_count": null,
   "metadata": {},
   "outputs": [],
   "source": [
    "df.head()"
   ]
  },
  {
   "cell_type": "code",
   "execution_count": null,
   "metadata": {},
   "outputs": [],
   "source": [
    "df = df.drop(labels=['Code type local', 'Nature culture', 'Nature mutation','Nombre de lots'], axis=1)"
   ]
  },
  {
   "cell_type": "code",
   "execution_count": null,
   "metadata": {},
   "outputs": [],
   "source": [
    "d_type = {\n",
    "    'Commune' : 'str',\n",
    "    'Code commune' : 'str',\n",
    "    'Code departement' : 'str',\n",
    "    'Code postal' : 'str',\n",
    "    'Valeur fonciere' : 'float',\n",
    "    'Surface reelle bati' : 'float',\n",
    "    'Nombre pieces principales' : 'float',\n",
    "    'Surface terrain' : 'float',\n",
    "    'Prix m2 moyen region' : 'float',\n",
    "    'Prix m2 moyen commune' : 'float'\n",
    "}\n",
    "\n",
    "\n",
    "df = df.astype(d_type)\n",
    "df[['Valeur fonciere','Nombre pieces principales','Prix m2 moyen region','Prix m2 moyen commune']] = df[['Valeur fonciere','Nombre pieces principales','Prix m2 moyen region','Prix m2 moyen commune']].astype('int')\n"
   ]
  },
  {
   "cell_type": "code",
   "execution_count": null,
   "metadata": {},
   "outputs": [],
   "source": [
    "#df['Code departement'] = df['Code departement'].str.zfill(2)"
   ]
  },
  {
   "cell_type": "code",
   "execution_count": null,
   "metadata": {},
   "outputs": [],
   "source": [
    "df.head()"
   ]
  },
  {
   "cell_type": "markdown",
   "metadata": {},
   "source": [
    "# Création du fichier csv pour la carte"
   ]
  },
  {
   "cell_type": "code",
   "execution_count": null,
   "metadata": {},
   "outputs": [],
   "source": [
    "#Import des données\n",
    "lat = pd.read_csv(filepath_or_buffer= path + \"communes-departement-region.csv\", sep=\",\", decimal=\".\")"
   ]
  },
  {
   "cell_type": "code",
   "execution_count": null,
   "metadata": {},
   "outputs": [],
   "source": [
    "lat.columns"
   ]
  },
  {
   "cell_type": "code",
   "execution_count": null,
   "metadata": {},
   "outputs": [],
   "source": [
    "#On vire les valeurs qui ne nous interesse pas\n",
    "lat = lat[['code_commune_INSEE','nom_commune_postal','code_postal','latitude', 'longitude','code_commune','code_departement']]"
   ]
  },
  {
   "cell_type": "code",
   "execution_count": null,
   "metadata": {},
   "outputs": [],
   "source": [
    "lat = lat.dropna(axis=0)"
   ]
  },
  {
   "cell_type": "code",
   "execution_count": null,
   "metadata": {},
   "outputs": [],
   "source": [
    "#Trasntypage\n",
    "d_type = {\n",
    "    'code_commune_INSEE':'str',\n",
    "    'nom_commune_postal':'str',\n",
    "    'code_postal':'float',\n",
    "    'latitude':'float',\n",
    "    'longitude':'float',\n",
    "    'code_commune':'float',\n",
    "    'code_departement':'str'\n",
    "}\n",
    "\n",
    "\n",
    "lat = lat.astype(d_type)\n",
    "lat['code_commune'] = lat['code_commune'].astype(int).astype(str)\n",
    "lat['code_postal'] = lat['code_postal'].astype(str)"
   ]
  },
  {
   "cell_type": "code",
   "execution_count": null,
   "metadata": {},
   "outputs": [],
   "source": [
    "print(lat.info())\n",
    "print(df.info())"
   ]
  },
  {
   "cell_type": "code",
   "execution_count": null,
   "metadata": {},
   "outputs": [],
   "source": [
    "lat_fu = lat[['code_departement','code_commune','code_postal', 'latitude', 'longitude']]\n",
    "lat_fu = lat_fu.rename(columns={'code_departement': 'Code departement', 'code_commune': 'Code commune', 'code_postal' : 'Code postal'})"
   ]
  },
  {
   "cell_type": "code",
   "execution_count": null,
   "metadata": {},
   "outputs": [],
   "source": [
    "lat_fu"
   ]
  },
  {
   "cell_type": "code",
   "execution_count": null,
   "metadata": {},
   "outputs": [],
   "source": [
    "#Union des deux tables\n",
    "result = pd.merge(left=df, right=lat_fu, on=['Code departement','Code commune', 'Code postal'], how='left')\n",
    "result.drop_duplicates(ignore_index=True, inplace=True)"
   ]
  },
  {
   "cell_type": "code",
   "execution_count": null,
   "metadata": {},
   "outputs": [],
   "source": [
    "result.shape"
   ]
  },
  {
   "cell_type": "code",
   "execution_count": null,
   "metadata": {},
   "outputs": [],
   "source": [
    "print(result['latitude'].isna().sum())"
   ]
  },
  {
   "cell_type": "code",
   "execution_count": null,
   "metadata": {},
   "outputs": [],
   "source": [
    "result.head()"
   ]
  },
  {
   "cell_type": "code",
   "execution_count": null,
   "metadata": {},
   "outputs": [],
   "source": [
    "result = result.drop(labels=['Type de voie', 'Code postal', 'Code departement','Code commune','Type local','month','year','Surface reelle bati','Nombre pieces principales','Surface terrain',], axis=1)"
   ]
  },
  {
   "cell_type": "code",
   "execution_count": null,
   "metadata": {},
   "outputs": [],
   "source": [
    "result.head()"
   ]
  },
  {
   "cell_type": "code",
   "execution_count": null,
   "metadata": {},
   "outputs": [],
   "source": [
    "path = 'C:/Users/Admin/OneDrive/Documents/M2 SISE/Machine learning sous Python/Projet python/Machine_Learning/carte.csv'  # Remplacez 'NomUtilisateur' par votre nom d'utilisateur\n",
    "\n",
    "# Exportez le DataFrame en tant que fichier CSV en utilisant le chemin spécifié\n",
    "result.to_csv(path, index=False)"
   ]
  },
  {
   "cell_type": "markdown",
   "metadata": {},
   "source": [
    "Affichage de la carte"
   ]
  },
  {
   "cell_type": "code",
   "execution_count": null,
   "metadata": {},
   "outputs": [],
   "source": [
    "import pandas as pd\n",
    "carte_dep = pd.read_csv(\"C:/Users/Admin/OneDrive/Documents/M2 SISE/Machine learning sous Python/Projet python/Machine_Learning/carte.csv\")\n",
    "\n",
    "import plotly.express as px\n",
    "\n",
    "fig = px.scatter_geo(carte_dep, lat=\"latitude\", lon=\"longitude\")\n",
    "#fig.update_layout(mapbox_style=\"open-street-map\")\n",
    "#fig.update_layout(margin={\"r\":0,\"t\":0,\"l\":0,\"b\":0})\n",
    "fig.show()"
   ]
  }
 ],
 "metadata": {
  "kernelspec": {
   "display_name": "Python 3",
   "language": "python",
   "name": "python3"
  },
  "language_info": {
   "codemirror_mode": {
    "name": "ipython",
    "version": 3
   },
   "file_extension": ".py",
   "mimetype": "text/x-python",
   "name": "python",
   "nbconvert_exporter": "python",
   "pygments_lexer": "ipython3",
   "version": "3.11.6"
  }
 },
 "nbformat": 4,
 "nbformat_minor": 2
}
