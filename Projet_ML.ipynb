{
 "cells": [
  {
   "cell_type": "code",
   "execution_count": 1,
   "metadata": {},
   "outputs": [
    {
     "name": "stderr",
     "output_type": "stream",
     "text": [
      "C:\\Users\\Admin\\AppData\\Local\\Temp\\ipykernel_4832\\418317142.py:3: DtypeWarning: Columns (14,18,23,24,26,28,32,41) have mixed types. Specify dtype option on import or set low_memory=False.\n",
      "  df = pd.read_csv('valeursfoncieres-2018.txt', delimiter='|',decimal=\",\")\n"
     ]
    },
    {
     "data": {
      "text/plain": [
       "<bound method NDFrame.describe of          Identifiant de document  Reference document  1 Articles CGI  \\\n",
       "0                            NaN                 NaN             NaN   \n",
       "1                            NaN                 NaN             NaN   \n",
       "2                            NaN                 NaN             NaN   \n",
       "3                            NaN                 NaN             NaN   \n",
       "4                            NaN                 NaN             NaN   \n",
       "...                          ...                 ...             ...   \n",
       "3335287                      NaN                 NaN             NaN   \n",
       "3335288                      NaN                 NaN             NaN   \n",
       "3335289                      NaN                 NaN             NaN   \n",
       "3335290                      NaN                 NaN             NaN   \n",
       "3335291                      NaN                 NaN             NaN   \n",
       "\n",
       "         2 Articles CGI  3 Articles CGI  4 Articles CGI  5 Articles CGI  \\\n",
       "0                   NaN             NaN             NaN             NaN   \n",
       "1                   NaN             NaN             NaN             NaN   \n",
       "2                   NaN             NaN             NaN             NaN   \n",
       "3                   NaN             NaN             NaN             NaN   \n",
       "4                   NaN             NaN             NaN             NaN   \n",
       "...                 ...             ...             ...             ...   \n",
       "3335287             NaN             NaN             NaN             NaN   \n",
       "3335288             NaN             NaN             NaN             NaN   \n",
       "3335289             NaN             NaN             NaN             NaN   \n",
       "3335290             NaN             NaN             NaN             NaN   \n",
       "3335291             NaN             NaN             NaN             NaN   \n",
       "\n",
       "         No disposition Date mutation Nature mutation  ...  \\\n",
       "0                     1    03/01/2018           Vente  ...   \n",
       "1                     1    03/01/2018           Vente  ...   \n",
       "2                     1    04/01/2018           Vente  ...   \n",
       "3                     1    04/01/2018           Vente  ...   \n",
       "4                     1    04/01/2018           Vente  ...   \n",
       "...                 ...           ...             ...  ...   \n",
       "3335287               1    28/12/2018           Vente  ...   \n",
       "3335288               1    03/12/2018           Vente  ...   \n",
       "3335289               1    28/12/2018           Vente  ...   \n",
       "3335290               1    13/12/2018    Adjudication  ...   \n",
       "3335291               1    17/10/2018           Vente  ...   \n",
       "\n",
       "         Surface Carrez du 5eme lot  Nombre de lots Code type local  \\\n",
       "0                               NaN               2             2.0   \n",
       "1                               NaN               1             3.0   \n",
       "2                               NaN               0             1.0   \n",
       "3                               NaN               0             1.0   \n",
       "4                               NaN               0             1.0   \n",
       "...                             ...             ...             ...   \n",
       "3335287                         NaN               2             2.0   \n",
       "3335288                         NaN               1             2.0   \n",
       "3335289                         NaN               1             4.0   \n",
       "3335290                         NaN               2             2.0   \n",
       "3335291                         NaN               1             2.0   \n",
       "\n",
       "                                       Type local Identifiant local  \\\n",
       "0                                     Appartement               NaN   \n",
       "1                                      Dépendance               NaN   \n",
       "2                                          Maison               NaN   \n",
       "3                                          Maison               NaN   \n",
       "4                                          Maison               NaN   \n",
       "...                                           ...               ...   \n",
       "3335287                               Appartement               NaN   \n",
       "3335288                               Appartement               NaN   \n",
       "3335289  Local industriel. commercial ou assimilé               NaN   \n",
       "3335290                               Appartement               NaN   \n",
       "3335291                               Appartement               NaN   \n",
       "\n",
       "        Surface reelle bati  Nombre pieces principales Nature culture  \\\n",
       "0                      73.0                        4.0            NaN   \n",
       "1                       0.0                        0.0            NaN   \n",
       "2                     163.0                        4.0              S   \n",
       "3                     163.0                        4.0             AG   \n",
       "4                      51.0                        2.0             AG   \n",
       "...                     ...                        ...            ...   \n",
       "3335287               150.0                        4.0            NaN   \n",
       "3335288                34.0                        1.0            NaN   \n",
       "3335289                60.0                        0.0            NaN   \n",
       "3335290                54.0                        2.0            NaN   \n",
       "3335291                11.0                        1.0            NaN   \n",
       "\n",
       "        Nature culture speciale  Surface terrain  \n",
       "0                           NaN              NaN  \n",
       "1                           NaN              NaN  \n",
       "2                           NaN            949.0  \n",
       "3                          JARD            420.0  \n",
       "4                          JARD            420.0  \n",
       "...                         ...              ...  \n",
       "3335287                     NaN              NaN  \n",
       "3335288                     NaN              NaN  \n",
       "3335289                     NaN              NaN  \n",
       "3335290                     NaN              NaN  \n",
       "3335291                     NaN              NaN  \n",
       "\n",
       "[3335292 rows x 43 columns]>"
      ]
     },
     "execution_count": 1,
     "metadata": {},
     "output_type": "execute_result"
    }
   ],
   "source": [
    "import pandas as pd\n",
    "\n",
    "df = pd.read_csv('valeursfoncieres-2018.txt', delimiter='|',decimal=\",\")\n",
    "df.shape\n",
    "df.describe"
   ]
  },
  {
   "cell_type": "code",
   "execution_count": 3,
   "metadata": {},
   "outputs": [
    {
     "name": "stdout",
     "output_type": "stream",
     "text": [
      "Le nombre total de lignes dans la colonne 'Valeur fonciere' est : 3335292\n"
     ]
    }
   ],
   "source": [
    "df.columns\n",
    "nb_valeurs = df['Valeur fonciere'].shape[0]\n",
    "print(\"Le nombre total de lignes dans la colonne 'Valeur fonciere' est :\", nb_valeurs)\n"
   ]
  },
  {
   "cell_type": "code",
   "execution_count": 4,
   "metadata": {},
   "outputs": [
    {
     "name": "stdout",
     "output_type": "stream",
     "text": [
      "Pourcentage des valeurs manquantes par colonne :\n",
      "Identifiant de document       100.000000\n",
      "Reference document            100.000000\n",
      "1 Articles CGI                100.000000\n",
      "2 Articles CGI                100.000000\n",
      "3 Articles CGI                100.000000\n",
      "4 Articles CGI                100.000000\n",
      "5 Articles CGI                100.000000\n",
      "No disposition                  0.000000\n",
      "Date mutation                   0.000000\n",
      "Nature mutation                 0.000000\n",
      "Valeur fonciere                 0.959646\n",
      "No voie                        42.015632\n",
      "B/T/Q                          95.655433\n",
      "Type de voie                   43.358782\n",
      "Code voie                       0.909995\n",
      "Voie                            0.910595\n",
      "Code postal                     0.915002\n",
      "Commune                         0.000000\n",
      "Code departement                0.000000\n",
      "Code commune                    0.000000\n",
      "Prefixe de section             95.650906\n",
      "Section                         0.002549\n",
      "No plan                         0.000000\n",
      "No Volume                      99.700356\n",
      "1er lot                        68.860148\n",
      "Surface Carrez du 1er lot      91.316502\n",
      "2eme lot                       93.454606\n",
      "Surface Carrez du 2eme lot     97.873709\n",
      "3eme lot                       98.900846\n",
      "Surface Carrez du 3eme lot     99.788954\n",
      "4eme lot                       99.616705\n",
      "Surface Carrez du 4eme lot     99.943813\n",
      "5eme lot                       99.818906\n",
      "Surface Carrez du 5eme lot     99.976974\n",
      "Nombre de lots                  0.000000\n",
      "Code type local                45.048769\n",
      "Type local                     45.048769\n",
      "Identifiant local             100.000000\n",
      "Surface reelle bati            45.133739\n",
      "Nombre pieces principales      45.133739\n",
      "Nature culture                 31.612494\n",
      "Nature culture speciale        95.375757\n",
      "Surface terrain                31.612494\n",
      "dtype: float64\n"
     ]
    }
   ],
   "source": [
    "# Calculer le pourcentage des valeurs manquantes par colonne\n",
    "pourcentage_valeurs_manquantes = (df.isna().sum() / len(df)) * 100\n",
    "\n",
    "# Afficher le résultat\n",
    "print(\"Pourcentage des valeurs manquantes par colonne :\")\n",
    "print(pourcentage_valeurs_manquantes)"
   ]
  },
  {
   "cell_type": "code",
   "execution_count": 5,
   "metadata": {},
   "outputs": [
    {
     "name": "stdout",
     "output_type": "stream",
     "text": [
      "Colonnes avec plus de 60% de valeurs manquantes :\n",
      "Index(['Identifiant de document', 'Reference document', '1 Articles CGI',\n",
      "       '2 Articles CGI', '3 Articles CGI', '4 Articles CGI', '5 Articles CGI',\n",
      "       'B/T/Q', 'Prefixe de section', 'No Volume', '1er lot',\n",
      "       'Surface Carrez du 1er lot', '2eme lot', 'Surface Carrez du 2eme lot',\n",
      "       '3eme lot', 'Surface Carrez du 3eme lot', '4eme lot',\n",
      "       'Surface Carrez du 4eme lot', '5eme lot', 'Surface Carrez du 5eme lot',\n",
      "       'Identifiant local', 'Nature culture speciale'],\n",
      "      dtype='object')\n",
      "Colonnes avec moins de 60% de valeurs manquantes :\n",
      "No disposition                0.000000\n",
      "Date mutation                 0.000000\n",
      "Nature mutation               0.000000\n",
      "Valeur fonciere               0.959646\n",
      "No voie                      42.015632\n",
      "Type de voie                 43.358782\n",
      "Code voie                     0.909995\n",
      "Voie                          0.910595\n",
      "Code postal                   0.915002\n",
      "Commune                       0.000000\n",
      "Code departement              0.000000\n",
      "Code commune                  0.000000\n",
      "Section                       0.002549\n",
      "No plan                       0.000000\n",
      "Nombre de lots                0.000000\n",
      "Code type local              45.048769\n",
      "Type local                   45.048769\n",
      "Surface reelle bati          45.133739\n",
      "Nombre pieces principales    45.133739\n",
      "Nature culture               31.612494\n",
      "Surface terrain              31.612494\n",
      "dtype: float64\n"
     ]
    }
   ],
   "source": [
    "# Filtrer les colonnes avec plus de 60% de valeurs manquantes\n",
    "plussoixante = pourcentage_valeurs_manquantes[pourcentage_valeurs_manquantes > 60].index\n",
    "# Filtrer les colonnes avec moins de 60% de valeurs manquantes\n",
    "moinssoixante= pourcentage_valeurs_manquantes[pourcentage_valeurs_manquantes < 60]\n",
    "# Afficher les noms des colonnes avec plus de 60% de valeurs manquantes\n",
    "print(\"Colonnes avec plus de 60% de valeurs manquantes :\")\n",
    "print(plussoixante)\n",
    "# Afficher les noms des colonnes avec moins de 60% de valeurs manquantes\n",
    "print(\"Colonnes avec moins de 60% de valeurs manquantes :\")\n",
    "print(moinssoixante)"
   ]
  },
  {
   "cell_type": "code",
   "execution_count": 6,
   "metadata": {},
   "outputs": [],
   "source": [
    "# Supprimer les colonnes sélectionnées du DataFrame\n",
    "df = df.drop(columns=plussoixante)"
   ]
  },
  {
   "cell_type": "code",
   "execution_count": 17,
   "metadata": {},
   "outputs": [
    {
     "name": "stdout",
     "output_type": "stream",
     "text": [
      "object\n",
      "object\n",
      "0          03/01/20181660\n",
      "2          04/01/20180025\n",
      "3          04/01/20180025\n",
      "4          04/01/20180025\n",
      "5          04/01/20180025\n",
      "                ...      \n",
      "3335287    28/12/20182012\n",
      "3335288    03/12/20187561\n",
      "3335289    28/12/20188548\n",
      "3335290    13/12/20186559\n",
      "3335291    17/10/20188525\n",
      "Name: Concat, Length: 2872422, dtype: object\n"
     ]
    }
   ],
   "source": [
    "#On vérifie le type de données dans les colonnes que l'on veut concatener\n",
    "print(df['Date mutation'].dtypes)\n",
    "print(df['Code voie'].dtypes)\n",
    "# Utilise la méthode .apply pour concaténer les deux colonnes et créer une nouvelle colonne\n",
    "df['Concat'] = df['Date mutation'].astype(str) + df['Code voie'].astype(str)\n",
    "# Affiche le DataFrame pour vérifier les résultats\n",
    "print(df['Concat'])"
   ]
  },
  {
   "cell_type": "code",
   "execution_count": 19,
   "metadata": {},
   "outputs": [
    {
     "name": "stdout",
     "output_type": "stream",
     "text": [
      "0          03/01/20181660\n",
      "2          04/01/20180025\n",
      "6          04/01/2018B034\n",
      "9          10/01/2018B077\n",
      "10         12/01/2018B135\n",
      "                ...      \n",
      "3335285    28/12/20180797\n",
      "3335286    26/12/20185702\n",
      "3335288    03/12/20187561\n",
      "3335289    28/12/20188548\n",
      "3335290    13/12/20186559\n",
      "Name: Concat, Length: 605794, dtype: object\n"
     ]
    }
   ],
   "source": [
    "# On utilise la méthode drop_duplicates pour supprimer les lignes identiques de la colonne \"Concat\"\n",
    "df = df.drop_duplicates(subset=['Concat'])\n",
    "print(df['Concat'])"
   ]
  },
  {
   "cell_type": "code",
   "execution_count": 8,
   "metadata": {},
   "outputs": [
    {
     "name": "stdout",
     "output_type": "stream",
     "text": [
      "31178\n",
      "Nombre d'occurrences de chaque commune dans la colonne 'commune' :\n",
      "Commune\n",
      "TOULOUSE                         27052\n",
      "NICE                             16672\n",
      "NANTES                           16149\n",
      "MONTPELLIER                      15371\n",
      "BORDEAUX                         14569\n",
      "                                 ...  \n",
      "FELCE                                1\n",
      "FUSTEROUAU                           1\n",
      "SAINT PIERRE LES FRANQUEVILLE        1\n",
      "LAROCHE-PRES-FEYT                    1\n",
      "PARGNY LES BOIS                      1\n",
      "Name: count, Length: 31178, dtype: int64\n"
     ]
    }
   ],
   "source": [
    "# Obtenir le nombre de communes différentes dans la colonne \"commune\"\n",
    "communes = df['Commune'].nunique()\n",
    "print(communes)\n",
    "# Compter le nombre d'occurrences de chaque commune dans la colonne \"commune\"\n",
    "nb_communes = df['Commune'].value_counts()\n",
    "\n",
    "# Afficher le résultat\n",
    "print(\"Nombre d'occurrences de chaque commune dans la colonne 'commune' :\")\n",
    "print(nb_communes)\n"
   ]
  },
  {
   "cell_type": "code",
   "execution_count": 9,
   "metadata": {},
   "outputs": [
    {
     "name": "stdout",
     "output_type": "stream",
     "text": [
      "Les 20 communes les plus fréquentes dans la colonne 'commune' :\n",
      "Commune\n",
      "TOULOUSE            27052\n",
      "NICE                16672\n",
      "NANTES              16149\n",
      "MONTPELLIER         15371\n",
      "BORDEAUX            14569\n",
      "LILLE               12719\n",
      "RENNES              12102\n",
      "SAINT-ETIENNE        8797\n",
      "PARIS 15             8180\n",
      "VILLEURBANNE         8125\n",
      "NIMES                7633\n",
      "DIJON                7517\n",
      "ANGERS               7364\n",
      "GRENOBLE             6872\n",
      "ROUEN                6854\n",
      "TOURS                6667\n",
      "REIMS                6562\n",
      "NANCY                6546\n",
      "CLERMONT FERRAND     6461\n",
      "PARIS 16             6447\n",
      "Name: count, dtype: int64\n"
     ]
    }
   ],
   "source": [
    "# Obtenir les noms des 20 communes les plus fréquentes\n",
    "top_20_communes = nb_communes.head(20)\n",
    "\n",
    "# Afficher le résultat\n",
    "print(\"Les 20 communes les plus fréquentes dans la colonne 'commune' :\")\n",
    "print(top_20_communes)\n"
   ]
  },
  {
   "cell_type": "code",
   "execution_count": 10,
   "metadata": {},
   "outputs": [
    {
     "name": "stdout",
     "output_type": "stream",
     "text": [
      "Les 20 communes les moins fréquentes dans la colonne 'commune' :\n",
      "Commune\n",
      "LAHITERE                         1\n",
      "ECHAY                            1\n",
      "ZINCOURT                         1\n",
      "ST MAUR DES FOSSES               1\n",
      "RUSIO                            1\n",
      "BELLOC SAINT-CLAMENS             1\n",
      "LAFAUCHE                         1\n",
      "SOMME-BIONNE                     1\n",
      "VERSEILLES-LE-HAUT               1\n",
      "BOUSSEY                          1\n",
      "LA CHAPELLE DU BOURGAY           1\n",
      "DOMMARIEN                        1\n",
      "ARGUEL                           1\n",
      "DEVEZE                           1\n",
      "SAINT-DIDIER-SOUS-ECOUVES        1\n",
      "FELCE                            1\n",
      "FUSTEROUAU                       1\n",
      "SAINT PIERRE LES FRANQUEVILLE    1\n",
      "LAROCHE-PRES-FEYT                1\n",
      "PARGNY LES BOIS                  1\n",
      "Name: count, dtype: int64\n"
     ]
    }
   ],
   "source": [
    "# Obtenir les noms des 20 communes les moins fréquente\n",
    "petites_communes = nb_communes.tail(20)\n",
    "\n",
    "# Afficher le résultat\n",
    "print(\"Les 20 communes les moins fréquentes dans la colonne 'commune' :\")\n",
    "print(petites_communes)"
   ]
  },
  {
   "cell_type": "code",
   "execution_count": 28,
   "metadata": {},
   "outputs": [
    {
     "data": {
      "image/png": "[encoded data removed]",
      "text/plain": [
       "<Figure size 640x480 with 1 Axes>"
      ]
     },
     "metadata": {},
     "output_type": "display_data"
    }
   ],
   "source": [
    "import matplotlib.pyplot as plt\n",
    "\n",
    "# Créer un nuage de points avec les colonnes \"Valeur fonciere\" et \"Surface reelle bati\"\n",
    "plt.scatter(df['Valeur fonciere'], df['Surface reelle bati'])\n",
    "\n",
    "# Ajouter des labels aux axes\n",
    "plt.xlabel('Valeur fonciere')\n",
    "plt.ylabel('Surface reelle bati')\n",
    "\n",
    "# Afficher le graphique\n",
    "plt.show()\n"
   ]
  },
  {
   "cell_type": "code",
   "execution_count": 11,
   "metadata": {},
   "outputs": [],
   "source": [
    "# Supprimer les lignes où la colonne \"Surface reelle bati\" est égale à 0\n",
    "df = df[df['Surface reelle bati'] != 0]"
   ]
  },
  {
   "cell_type": "code",
   "execution_count": 12,
   "metadata": {},
   "outputs": [
    {
     "data": {
      "text/plain": [
       "Nature mutation\n",
       "Vente                                 2603837\n",
       "Vente en l'état futur d'achèvement     195024\n",
       "Echange                                 46023\n",
       "Vente terrain à bâtir                   13408\n",
       "Adjudication                            11605\n",
       "Expropriation                            2525\n",
       "Name: count, dtype: int64"
      ]
     },
     "execution_count": 12,
     "metadata": {},
     "output_type": "execute_result"
    }
   ],
   "source": [
    "#df['Nature mutation'].value_counts()\n",
    "#df['Nature culture'].value_counts()\n"
   ]
  },
  {
   "cell_type": "code",
   "execution_count": 13,
   "metadata": {},
   "outputs": [
    {
     "data": {
      "text/plain": [
       "Nature culture\n",
       "S     973193\n",
       "T     347367\n",
       "P     178317\n",
       "AB    129949\n",
       "J     112202\n",
       "BT     97544\n",
       "L      93053\n",
       "AG     74283\n",
       "VI     41899\n",
       "BR     34315\n",
       "VE     25691\n",
       "BS     16737\n",
       "PA     15965\n",
       "B      12681\n",
       "E       9172\n",
       "BP      7545\n",
       "BF      4726\n",
       "PP      2399\n",
       "PC      1961\n",
       "CH      1461\n",
       "PH      1354\n",
       "BM      1249\n",
       "CA       862\n",
       "LB       358\n",
       "TP       106\n",
       "PE        73\n",
       "BO        41\n",
       "Name: count, dtype: int64"
      ]
     },
     "execution_count": 13,
     "metadata": {},
     "output_type": "execute_result"
    }
   ],
   "source": []
  },
  {
   "cell_type": "code",
   "execution_count": null,
   "metadata": {},
   "outputs": [],
   "source": [
    "#Supprimer les lignes en double -> concatener date et code voie \n",
    "#Classer types de bien\n",
    "#Supprimer les lignes sans valeurs foncières\n",
    "#Afficher tableau croisé (nature culture - type local) et voir si on supprimer les données à 0\n",
    "#Voir les différentes valeurs de type local\n",
    "#Prédiction sur les valeurs foncières => enrichir avec les prix ou n° des communes\n",
    "#Ajouter longitude et latitude en reliant avec le cp\n",
    "#KNNImputer\n",
    "\n",
    "#regression:\n",
    "#Ridge: plus le Alpha est grand plus les coefficients sont homogènes ce qui évite le surapprentissage (trouver avec un Gridsearch)\n",
    "#Lasso: plus le Alpha est grand plus les coefficients sont proches de 0\n",
    "#ElasticNet: mélange de ridge et du lasso\n",
    "\n",
    "#SMOTE: \n"
   ]
  }
 ],
 "metadata": {
  "kernelspec": {
   "display_name": "Python 3",
   "language": "python",
   "name": "python3"
  },
  "language_info": {
   "codemirror_mode": {
    "name": "ipython",
    "version": 3
   },
   "file_extension": ".py",
   "mimetype": "text/x-python",
   "name": "python",
   "nbconvert_exporter": "python",
   "pygments_lexer": "ipython3",
   "version": "3.11.6"
  },
  "orig_nbformat": 4
 },
 "nbformat": 4,
 "nbformat_minor": 2
}
