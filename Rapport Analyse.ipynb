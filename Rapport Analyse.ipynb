{
 "cells": [
  {
   "cell_type": "code",
   "execution_count": null,
   "metadata": {},
   "outputs": [],
   "source": [
    "import pandas as pd\n",
    "import seaborn as sns\n",
    "import numpy as np\n",
    "import matplotlib.pyplot as plt\n"
   ]
  },
  {
   "cell_type": "code",
   "execution_count": null,
   "metadata": {},
   "outputs": [],
   "source": [
    "#Definition du path\n",
    "\n",
    "#Université\n",
    "#path = \"C:/Users/pterron/Documents/projet_python/Application_ml/Depot_data/\"\n",
    "\n",
    "#Maison\n",
    "path = \"C:/Users/pierr/Documents/1_projet_python/Valeur_fonciere/Depot_data/\""
   ]
  },
  {
   "cell_type": "code",
   "execution_count": null,
   "metadata": {},
   "outputs": [],
   "source": [
    "#head set up\n",
    "pd.set_option('display.max_columns', None)\n",
    "\n",
    "#Import de toutes les datas\n",
    "D = pd.read_csv(filepath_or_buffer= path + \"valeursfoncieres-2018.txt\", sep=\"|\", decimal=\",\")\n"
   ]
  },
  {
   "cell_type": "code",
   "execution_count": null,
   "metadata": {},
   "outputs": [],
   "source": [
    "\n",
    "#Sample\n",
    "df = D.sample(n = 1000000)\n",
    "\n",
    "#Visu\n",
    "df.head()\n",
    "df.info()"
   ]
  },
  {
   "cell_type": "markdown",
   "metadata": {},
   "source": [
    "Traitement des données"
   ]
  },
  {
   "cell_type": "code",
   "execution_count": null,
   "metadata": {},
   "outputs": [],
   "source": [
    "#Valeur manquante\n",
    "values = df.isna().sum()/len(df)\n",
    "#Colonne vides\n",
    "df = df.dropna(axis = 1, how='all')"
   ]
  },
  {
   "cell_type": "code",
   "execution_count": null,
   "metadata": {},
   "outputs": [],
   "source": [
    "df.head()"
   ]
  },
  {
   "cell_type": "code",
   "execution_count": null,
   "metadata": {},
   "outputs": [],
   "source": [
    "#Colonnes sous un certain pourcentage\n",
    "perc = len(df)*0.20\n",
    "#print(perc)\n",
    "#print(df.isna().sum())\n",
    "df = df.dropna(axis = 1, thresh=perc)\n",
    "#df.isna().sum()"
   ]
  },
  {
   "cell_type": "code",
   "execution_count": null,
   "metadata": {},
   "outputs": [],
   "source": [
    "df.info()"
   ]
  },
  {
   "cell_type": "code",
   "execution_count": null,
   "metadata": {},
   "outputs": [],
   "source": [
    "#Transtypage\n",
    "\n",
    "df[['Code commune','Code departement','Code postal']] = df[['Code commune','Code departement','Code postal']].astype(object)"
   ]
  },
  {
   "cell_type": "code",
   "execution_count": null,
   "metadata": {},
   "outputs": [],
   "source": [
    "#Supprimer ligne ou valeur cible nulle est null\n",
    "df = df.dropna(axis =0, subset='Valeur fonciere')\n",
    "\n",
    "#Type local nul\n",
    "df = df.dropna(axis =0, subset='Type local')"
   ]
  },
  {
   "cell_type": "code",
   "execution_count": null,
   "metadata": {},
   "outputs": [],
   "source": [
    "df['Commune'].describe()"
   ]
  },
  {
   "cell_type": "code",
   "execution_count": null,
   "metadata": {},
   "outputs": [],
   "source": [
    "#Supprimer les doublons pour supprimer les dependances\n",
    "df['discretisation'] = df['Date mutation'].astype(str) + df['Code voie'].astype(str) + df['Voie'].astype(str) + df['Commune'].astype(str)\n",
    "df = df.drop_duplicates(subset = 'discretisation', keep=False)\n",
    "df = df.drop(labels='discretisation', axis = 1)"
   ]
  },
  {
   "cell_type": "code",
   "execution_count": null,
   "metadata": {},
   "outputs": [],
   "source": [
    "df.describe(include = 'all')\n",
    "df.info()"
   ]
  },
  {
   "cell_type": "code",
   "execution_count": null,
   "metadata": {},
   "outputs": [],
   "source": [
    "#Pourcentage de valeurs nulles\n",
    "df.isnull().sum()/len(df) *100"
   ]
  },
  {
   "cell_type": "markdown",
   "metadata": {},
   "source": [
    "'B/T/Q', 'Prefixe de section','No Volume', 'Surface Carrez du 1er lot', '2eme lot', 'Surface Carrez du 2eme lot','3eme lot','Surface Carrez du 3eme lot','4eme lot','Surface Carrez du 4eme lot','5eme lot'"
   ]
  },
  {
   "cell_type": "code",
   "execution_count": null,
   "metadata": {},
   "outputs": [],
   "source": [
    "df.head()"
   ]
  },
  {
   "cell_type": "code",
   "execution_count": null,
   "metadata": {},
   "outputs": [],
   "source": [
    "#Feature a garder, trie manuel (Valeurs doublons)\n",
    "\n",
    "'''\n",
    "#Surface reeel -> REgarder appartement\n",
    "#Nature culture -> A virer ?\n",
    "#Nombre de lots -> Peut-etre pertinent\n",
    "\n",
    "No disposition                0.000000 -> Ininteressant\n",
    "Date mutation                 0.000000 -> OK\n",
    "Nature mutation               0.000000 -> OK\n",
    "Valeur fonciere               0.000000 -> OK\n",
    "No voie                       3.213595 -> NOK\n",
    "Type de voie                 11.744926 -> OK -> Regarder la distrib stat, remplacer par le mode ou autre\n",
    "Code voie                     0.000000 -> NOK\n",
    "Voie                          0.000000  -> NOK\n",
    "Code postal                   0.012081  -> OK -> CAS particulier, droper les lignes\n",
    "Commune                       0.000000  -> OK\n",
    "Code departement              0.000000  -> OK\n",
    "Code commune                  0.000000  -> OK\n",
    "Section                       0.000000  -> NOK\n",
    "No plan                       0.000000  -> NOK\n",
    "1er lot                      48.415351  -> NOK\n",
    "Nombre de lots                0.000000  -> OK\n",
    "Code type local               0.000000  -> A regarder\n",
    "Type local                    0.000000  -> OK\n",
    "Surface reelle bati           0.128866  -> OK, attention dependance = 0 | A regarder\n",
    "Nombre pieces principales     0.128866  -> OK, a regarder | stat descriptive | Knn ?\n",
    "Nature culture               52.013531  -> OK\n",
    "Surface terrain              52.013531  -> A regarder \n",
    "\n",
    "'''\n",
    "\n",
    "\n",
    "l_corr =['Date mutation', 'Nature mutation', 'Valeur fonciere', 'Code postal','Type de voie', 'Code departement', 'Code commune', 'Type local', 'Surface reelle bati', 'Nature culture', 'Surface terrain','Commune']\n",
    "df = df[l_corr]\n",
    "df.head()"
   ]
  },
  {
   "cell_type": "code",
   "execution_count": null,
   "metadata": {},
   "outputs": [],
   "source": [
    "df['Type de voie'].describe(include = 'all')\n",
    "sum(df['Type de voie'].value_counts()[0:3])/len(df['Type de voie'])\n",
    "df['Type de voie'].value_counts()[0]/len(df['Type de voie'])\n",
    "#df['Type de voie'].describe(include = 'all')\n",
    "#sns.displot(df, x='Type de voie')"
   ]
  },
  {
   "cell_type": "code",
   "execution_count": null,
   "metadata": {},
   "outputs": [],
   "source": [
    "#Pourcentage de valeur manquante\n",
    "df.isnull().sum()/len(df) *100"
   ]
  },
  {
   "cell_type": "code",
   "execution_count": null,
   "metadata": {},
   "outputs": [],
   "source": [
    "#Ligne avant avec code postal nulle\n",
    "df[df['Code postal'].isnull()]\n",
    "\n",
    "#On peut droper la colonne Code postal, on a déja l'info par Code departement et code commune"
   ]
  },
  {
   "cell_type": "code",
   "execution_count": null,
   "metadata": {},
   "outputs": [],
   "source": [
    "#Feature a garder, trie manuel (Valeurs doublons)\n",
    "l_corr =['Date mutation', 'Nature mutation', 'Valeur fonciere', 'Code departement', 'Code commune', 'Type local', 'Surface reelle bati', 'Nature culture', 'Surface terrain','Commune']\n",
    "df = df[l_corr]\n",
    "df.head()"
   ]
  },
  {
   "cell_type": "markdown",
   "metadata": {},
   "source": [
    "Remplacement des valeurs NA"
   ]
  },
  {
   "cell_type": "code",
   "execution_count": null,
   "metadata": {},
   "outputs": [],
   "source": [
    "df.describe(include= 'all')\n",
    "df.info()"
   ]
  },
  {
   "cell_type": "markdown",
   "metadata": {},
   "source": [
    "## Traitement des valeurs NA"
   ]
  },
  {
   "cell_type": "code",
   "execution_count": null,
   "metadata": {},
   "outputs": [],
   "source": [
    "df.isnull().sum()"
   ]
  },
  {
   "cell_type": "markdown",
   "metadata": {},
   "source": [
    "Pour surface réel du batiment, on peut partir sur le remplacement par la moyenne pour commencer"
   ]
  },
  {
   "cell_type": "code",
   "execution_count": null,
   "metadata": {},
   "outputs": [],
   "source": [
    "#Remplacement valeur nulle par la moyenne\n",
    "print(df['Surface reelle bati'].mean())\n",
    "df['Surface reelle bati'] = df['Surface reelle bati'].fillna(value = df['Surface reelle bati'].mean())"
   ]
  },
  {
   "cell_type": "markdown",
   "metadata": {},
   "source": [
    "Pour Nature culture, on peut peut etre utiliser le mode pour le remplacement de la valeur"
   ]
  },
  {
   "cell_type": "code",
   "execution_count": null,
   "metadata": {},
   "outputs": [],
   "source": [
    "#Remplacement par le mode\n",
    "print(df['Nature culture'].mode()[0])\n",
    "df['Nature culture'] = df['Nature culture'].fillna(value = df['Nature culture'].mode()[0])"
   ]
  },
  {
   "cell_type": "markdown",
   "metadata": {},
   "source": [
    "Pour Surface terrain, on regarde la distribution et les statistiques"
   ]
  },
  {
   "cell_type": "code",
   "execution_count": null,
   "metadata": {},
   "outputs": [],
   "source": [
    "#Statistiques\n",
    "df['Surface terrain'].describe()"
   ]
  },
  {
   "cell_type": "code",
   "execution_count": null,
   "metadata": {},
   "outputs": [],
   "source": [
    "#Valeur extreme 494048, on cherche a voir combien de valeur on a au dessus d'une limite arbitraire pour lisser la distribution (Pourcentage)\n",
    "df['Surface terrain'][df['Surface terrain']> 6000].size/df['Surface terrain'].size*100"
   ]
  },
  {
   "cell_type": "markdown",
   "metadata": {},
   "source": [
    "0.4% de valeur au dessus de 10000, on vire ces valeurs de notre data set"
   ]
  },
  {
   "cell_type": "code",
   "execution_count": null,
   "metadata": {},
   "outputs": [],
   "source": [
    "#Supprimer les lignes exotiques \n",
    "#df.loc[df['Surface terrain'] > 10000].index\n",
    "df = df.drop(df.loc[df['Surface terrain'] > 6000].index, axis = 0)"
   ]
  },
  {
   "cell_type": "code",
   "execution_count": null,
   "metadata": {},
   "outputs": [],
   "source": [
    "df['Surface terrain'].describe()"
   ]
  },
  {
   "cell_type": "code",
   "execution_count": null,
   "metadata": {},
   "outputs": [],
   "source": [
    "sns.displot(df, x='Surface terrain')"
   ]
  },
  {
   "cell_type": "markdown",
   "metadata": {},
   "source": [
    "Distribution plus agreable, on peut utiliser la mediane "
   ]
  },
  {
   "cell_type": "code",
   "execution_count": 1,
   "metadata": {},
   "outputs": [
    {
     "ename": "NameError",
     "evalue": "name 'df' is not defined",
     "output_type": "error",
     "traceback": [
      "\u001b[1;31m---------------------------------------------------------------------------\u001b[0m",
      "\u001b[1;31mNameError\u001b[0m                                 Traceback (most recent call last)",
      "\u001b[1;32mc:\\Users\\pierr\\Documents\\1_projet_python\\Valeur_fonciere\\Machine_Learning\\Rapport Analyse.ipynb Cell 39\u001b[0m line \u001b[0;36m2\n\u001b[0;32m      <a href='vscode-notebook-cell:/c%3A/Users/pierr/Documents/1_projet_python/Valeur_fonciere/Machine_Learning/Rapport%20Analyse.ipynb#X53sZmlsZQ%3D%3D?line=0'>1</a>\u001b[0m \u001b[39m#Remplacement des valeurs par la mediane \u001b[39;00m\n\u001b[1;32m----> <a href='vscode-notebook-cell:/c%3A/Users/pierr/Documents/1_projet_python/Valeur_fonciere/Machine_Learning/Rapport%20Analyse.ipynb#X53sZmlsZQ%3D%3D?line=1'>2</a>\u001b[0m df[\u001b[39m'\u001b[39m\u001b[39mSurface terrain\u001b[39m\u001b[39m'\u001b[39m] \u001b[39m=\u001b[39m df[\u001b[39m'\u001b[39m\u001b[39mSurface terrain\u001b[39m\u001b[39m'\u001b[39m]\u001b[39m.\u001b[39mfillna(value \u001b[39m=\u001b[39m df[\u001b[39m'\u001b[39m\u001b[39mSurface terrain\u001b[39m\u001b[39m'\u001b[39m]\u001b[39m.\u001b[39mmedian())\n",
      "\u001b[1;31mNameError\u001b[0m: name 'df' is not defined"
     ]
    }
   ],
   "source": [
    "#Remplacement des valeurs par la mediane \n",
    "df['Surface terrain'] = df['Surface terrain'].fillna(value = df['Surface terrain'].median())"
   ]
  },
  {
   "cell_type": "code",
   "execution_count": null,
   "metadata": {},
   "outputs": [],
   "source": [
    "df['Surface terrain'].describe()"
   ]
  },
  {
   "cell_type": "code",
   "execution_count": null,
   "metadata": {},
   "outputs": [],
   "source": [
    "sns.displot(df, x='Surface terrain')"
   ]
  },
  {
   "cell_type": "code",
   "execution_count": null,
   "metadata": {},
   "outputs": [],
   "source": [
    "df.isnull().sum()"
   ]
  },
  {
   "cell_type": "code",
   "execution_count": null,
   "metadata": {},
   "outputs": [],
   "source": [
    "df.head()"
   ]
  },
  {
   "cell_type": "markdown",
   "metadata": {},
   "source": [
    "## Recuperation de Data open source"
   ]
  },
  {
   "cell_type": "markdown",
   "metadata": {},
   "source": [
    "### Latitude longitude commune"
   ]
  },
  {
   "cell_type": "code",
   "execution_count": null,
   "metadata": {},
   "outputs": [],
   "source": [
    "#Import csv open source (latitude, longitude, prix au m²)\n",
    "d_comm = pd.read_csv(filepath_or_buffer= path + \"communes-departement-region.csv\", sep=\",\", decimal=\".\")\n",
    "\n",
    "#Transtypage\n",
    "\n",
    "\n",
    "#Visu\n",
    "d_comm.describe(include='all')\n",
    "d_comm.head(10)"
   ]
  },
  {
   "cell_type": "code",
   "execution_count": null,
   "metadata": {},
   "outputs": [],
   "source": [
    "d_comm.shape"
   ]
  },
  {
   "cell_type": "code",
   "execution_count": null,
   "metadata": {},
   "outputs": [],
   "source": [
    "d_comm['code_postal'] = d_comm['code_postal'].astype(int)\n",
    "d_comm.code_commune_INSEE.value_counts()"
   ]
  },
  {
   "cell_type": "code",
   "execution_count": null,
   "metadata": {},
   "outputs": [],
   "source": [
    "#Suppression des doublons\n",
    "#Code postal\n",
    "d_comm = d_comm.drop_duplicates(subset=['code_postal'])\n",
    "#Meme code commune\n",
    "d_comm = d_comm.drop_duplicates(subset=['code_commune_INSEE'])\n",
    "\n",
    "#Sans latitude ou longitude\n",
    "d_comm = d_comm.dropna(axis =0, subset='latitude')\n",
    "\n",
    "\n",
    "d_comm.info()"
   ]
  },
  {
   "cell_type": "code",
   "execution_count": null,
   "metadata": {},
   "outputs": [],
   "source": [
    "d_fil = d_comm.loc[d_comm['code_commune'] == 53]\n",
    "d_fil"
   ]
  },
  {
   "cell_type": "code",
   "execution_count": null,
   "metadata": {},
   "outputs": [],
   "source": [
    "d_comm.shape"
   ]
  },
  {
   "cell_type": "code",
   "execution_count": null,
   "metadata": {},
   "outputs": [],
   "source": [
    "#Liste des colonnes à garder\n",
    "list_var = ['code_commune_INSEE','latitude','longitude','nom_commune']\n",
    "d_lat = d_comm[list_var]\n",
    "d_lat.head()"
   ]
  },
  {
   "cell_type": "code",
   "execution_count": null,
   "metadata": {},
   "outputs": [],
   "source": [
    "d_comm.loc[d_comm['code_commune_INSEE'] == '5061']"
   ]
  },
  {
   "cell_type": "markdown",
   "metadata": {},
   "source": [
    "### Prix au metre carré ATTENTION, BASE SUR PEU DE VENTE, PEUT ETRE PAS PERTINENT"
   ]
  },
  {
   "cell_type": "code",
   "execution_count": null,
   "metadata": {},
   "outputs": [],
   "source": [
    "#Import csv open source (latitude, longitude, prix au m²)\n",
    "#d_prix_mcarré = pd.read_csv(filepath_or_buffer= path + \"dvf-communes-2019.csv\", sep=\";\")\n",
    "\n",
    "#Transtypage\n",
    "\n",
    "#Visu\n",
    "#d_prix_mcarré.describe(include='all')"
   ]
  },
  {
   "cell_type": "code",
   "execution_count": null,
   "metadata": {},
   "outputs": [],
   "source": [
    "#d_prix_mcarré.INSEE_COM.value_counts()"
   ]
  },
  {
   "cell_type": "code",
   "execution_count": null,
   "metadata": {},
   "outputs": [],
   "source": [
    "#d_filter = d_prix_mcarré.loc[d_prix_mcarré['INSEE_DEP'] == '62']\n",
    "#d_filter"
   ]
  },
  {
   "cell_type": "markdown",
   "metadata": {},
   "source": [
    "ATTENTION AUX NOMBRES DE VENTES, IMPACT SUR LE PRIX MOYEN"
   ]
  },
  {
   "cell_type": "code",
   "execution_count": null,
   "metadata": {},
   "outputs": [],
   "source": [
    "l_drop = ['INSEE_COM','INSEE_REG', 'NOM_COM_M', 'PrixMoyen_M2']\n",
    "#d_prix_mcarré.drop()"
   ]
  },
  {
   "cell_type": "markdown",
   "metadata": {},
   "source": [
    "### Fusion des dataset"
   ]
  },
  {
   "cell_type": "code",
   "execution_count": null,
   "metadata": {},
   "outputs": [],
   "source": [
    "#Ajout des prix au mcarré pour les communes\n",
    "#merged_df = pd.merge(df, d_comm, on='', how='inner')"
   ]
  },
  {
   "cell_type": "code",
   "execution_count": null,
   "metadata": {},
   "outputs": [],
   "source": [
    "df.info()"
   ]
  },
  {
   "cell_type": "code",
   "execution_count": null,
   "metadata": {},
   "outputs": [],
   "source": [
    "#Creation de variable pour la fusion (Code insee)\n",
    "\n",
    "def f(x,y):\n",
    "    return x + y.zfill(3)\n",
    "\n",
    "df['code_commune_INSEE'] = df['Code departement'].astype(str) + df['Code commune'].astype(str).str.zfill(3)\n",
    "\n",
    "df['code_commune_INSEE'].value_counts()"
   ]
  },
  {
   "cell_type": "code",
   "execution_count": null,
   "metadata": {},
   "outputs": [],
   "source": [
    "#Merged\n",
    "merged_df = pd.merge(df, d_lat, on = 'code_commune_INSEE', how='left')\n",
    "merged_df"
   ]
  },
  {
   "cell_type": "code",
   "execution_count": null,
   "metadata": {},
   "outputs": [],
   "source": [
    "#Stat merged df\n",
    "merged_df.isnull().sum()/len(merged_df) *100"
   ]
  },
  {
   "cell_type": "markdown",
   "metadata": {},
   "source": [
    "## Cartography"
   ]
  },
  {
   "cell_type": "code",
   "execution_count": null,
   "metadata": {},
   "outputs": [],
   "source": [
    "import geoviews as gv\n",
    "import geoviews.feature as gf\n",
    "import xarray as xr\n",
    "from cartopy import crs\n",
    "\n",
    "gv.extension('bokeh')"
   ]
  },
  {
   "cell_type": "code",
   "execution_count": null,
   "metadata": {},
   "outputs": [],
   "source": [
    "df.head()"
   ]
  },
  {
   "cell_type": "code",
   "execution_count": null,
   "metadata": {},
   "outputs": [],
   "source": [
    "#Creation des valeurs de moyennes par departement\n",
    "val_moy_com = pd.pivot_table(data = df, values = 'Valeur fonciere',index = 'Code departement',aggfunc='mean')\n",
    "print(val_moy_com.sort_values(by = 'Valeur fonciere'))\n",
    "val_moy_com.loc[57] = val_moy_com.mean()\n",
    "val_moy_com.loc[67] = val_moy_com.mean()\n",
    "val_moy_com.loc[68] = val_moy_com.mean()\n",
    "val_moy_com = val_moy_com.astype(int)\n",
    "\n"
   ]
  },
  {
   "cell_type": "code",
   "execution_count": null,
   "metadata": {},
   "outputs": [],
   "source": [
    "val_moy_com.info()"
   ]
  },
  {
   "cell_type": "code",
   "execution_count": null,
   "metadata": {},
   "outputs": [],
   "source": [
    "val_moy_com.loc[30][0]"
   ]
  },
  {
   "cell_type": "code",
   "execution_count": null,
   "metadata": {},
   "outputs": [],
   "source": [
    "import geopandas as gpd\n",
    "import geoviews as gv"
   ]
  },
  {
   "cell_type": "code",
   "execution_count": null,
   "metadata": {},
   "outputs": [],
   "source": [
    "sf = gpd.read_file(path + \"departements-version-simplifiee.geojson\")\n",
    "sf['valeur'] = 0\n",
    "sf"
   ]
  },
  {
   "cell_type": "code",
   "execution_count": null,
   "metadata": {},
   "outputs": [],
   "source": [
    "#Ajout des valeurs de prix moyen dans un departement\n",
    "for index, row in sf.iterrows() :\n",
    "    #print(row[0])\n",
    "    if((row[0] == '2A') or (row[0] == '2B')):\n",
    "        #print(row[0])\n",
    "        sf['valeur'][index] = val_moy_com.loc[row[0]][0]\n",
    "    else :\n",
    "        sf['valeur'][index] = val_moy_com.loc[int(row[0])][0]\n",
    "        #print(row[0])\n",
    "#sf['value'b"
   ]
  },
  {
   "cell_type": "code",
   "execution_count": null,
   "metadata": {},
   "outputs": [],
   "source": [
    "sf.loc[42]"
   ]
  },
  {
   "cell_type": "code",
   "execution_count": null,
   "metadata": {},
   "outputs": [],
   "source": [
    "deps = gv.Polygons(sf, vdims=['valeur','nom'])"
   ]
  },
  {
   "cell_type": "code",
   "execution_count": null,
   "metadata": {},
   "outputs": [],
   "source": [
    "from geoviews import dim\n",
    "deps.opts(width=600, height=600, toolbar='above',\n",
    "          colorbar=True, tools=['hover'], aspect='equal')"
   ]
  },
  {
   "cell_type": "markdown",
   "metadata": {},
   "source": [
    "# Machine learning"
   ]
  },
  {
   "cell_type": "markdown",
   "metadata": {},
   "source": [
    "### Echantillonage"
   ]
  },
  {
   "cell_type": "code",
   "execution_count": null,
   "metadata": {},
   "outputs": [],
   "source": [
    "Y = df['Valeur fonciere']\n",
    "X = df[['Surface terrain', 'Surface reelle bati']] \n",
    "\n",
    "print(X.shape)\n",
    "print(Y.shape)\n"
   ]
  },
  {
   "cell_type": "code",
   "execution_count": null,
   "metadata": {},
   "outputs": [],
   "source": [
    "from sklearn.model_selection import train_test_split\n",
    "#70% des données pour l’apprentissage\n",
    "#30% des données pour l'échantillon test\n",
    "X_train, X_test, y_train, y_test = train_test_split(X, Y,\n",
    "                                                    test_size = 0.30,\n",
    "                                                    random_state = 42)"
   ]
  },
  {
   "cell_type": "code",
   "execution_count": null,
   "metadata": {},
   "outputs": [],
   "source": [
    "type(X_train)"
   ]
  },
  {
   "cell_type": "markdown",
   "metadata": {},
   "source": [
    "### Regression linéaire"
   ]
  },
  {
   "cell_type": "code",
   "execution_count": null,
   "metadata": {},
   "outputs": [],
   "source": [
    "from sklearn.linear_model import LinearRegression\n",
    "\n",
    "reg = LinearRegression().fit(X_train, y_train)"
   ]
  },
  {
   "cell_type": "code",
   "execution_count": null,
   "metadata": {},
   "outputs": [],
   "source": [
    "#Coefficient du modèle\n",
    "coef = pd.DataFrame(reg.coef_, index= X_train.columns, columns=['Coef'])\n",
    "coef.loc['Constante'] = reg.intercept_\n",
    "coef"
   ]
  },
  {
   "cell_type": "code",
   "execution_count": null,
   "metadata": {},
   "outputs": [],
   "source": [
    "y_pred = reg.predict(X_test)\n",
    "y_pred"
   ]
  },
  {
   "cell_type": "code",
   "execution_count": null,
   "metadata": {},
   "outputs": [],
   "source": [
    "#RMSE comme métrique\n",
    "from sklearn.metrics import mean_squared_error, r2_score\n",
    "print(\"RMSE : \" + str(mean_squared_error(y_test, y_pred, squared= False)))\n",
    "print(\"R² : \" + str(r2_score(y_test, y_pred)))"
   ]
  },
  {
   "cell_type": "markdown",
   "metadata": {},
   "source": [
    "## Random forest"
   ]
  },
  {
   "cell_type": "markdown",
   "metadata": {},
   "source": [
    "# DASH"
   ]
  },
  {
   "cell_type": "code",
   "execution_count": null,
   "metadata": {},
   "outputs": [],
   "source": [
    "#Import Packages\n",
    "from dash import Dash, html, dash_table, dcc, callback, Output, Input\n",
    "import pandas as pd\n",
    "import plotly.express as px\n",
    "\n",
    "#Incorporate data\n",
    "\n",
    "#Initialize the app - incorporate css\n",
    "external_stylesheets = ['https://codepen.io/chriddyp/pen/bWLwgP.css']\n",
    "app = Dash(__name__, external_stylesheets=external_stylesheets)\n",
    "\n",
    "#App layout\n",
    "app.layout = html.Div([\n",
    "    html.Div(className='row', children = 'My first app with Data & Gaphe', \n",
    "             style = {'textAlign': 'center', 'color': 'white', 'fontSize': 30}),\n",
    "    \n",
    "    html.Div(className='row', children =[\n",
    "        dcc.RadioItems( options=['Code postal', 'Nature mutation', 'Surface terrain'],\n",
    "                       value='Code postal',\n",
    "                       inline=True,\n",
    "                       id='controls-and-radio-item')],\n",
    "                       style = {'color': 'white', 'fontSize': 20}),\n",
    "\n",
    "    html.Div(className='row', children =[\n",
    "        html.Div(className='six columns', children=[\n",
    "            dash_table.DataTable(data=df.to_dict('records'), page_size=11, style_table={'overflowX': 'auto'})\n",
    "        ]),\n",
    "        html.Div(className='six columns', children=[\n",
    "            dcc.Graph(figure = {}, id='controls-and-graph')\n",
    "        ])\n",
    "    ])     \n",
    "])\n",
    "\n",
    "# Add controls to build the interaction\n",
    "@callback(\n",
    "    Output(component_id='controls-and-graph', component_property='figure'),\n",
    "    Input(component_id='controls-and-radio-item', component_property='value')\n",
    ")\n",
    "def update_graph(col_chosen):\n",
    "    fig = px.histogram(df, x=col_chosen, y='Valeur fonciere', histfunc='avg')\n",
    "    return fig\n",
    "\n",
    "\n",
    "#Run the app\n",
    "if __name__ == '__main__':\n",
    "    app.run(debug = True)"
   ]
  }
 ],
 "metadata": {
  "kernelspec": {
   "display_name": "environnement",
   "language": "python",
   "name": "python3"
  },
  "language_info": {
   "codemirror_mode": {
    "name": "ipython",
    "version": 3
   },
   "file_extension": ".py",
   "mimetype": "text/x-python",
   "name": "python",
   "nbconvert_exporter": "python",
   "pygments_lexer": "ipython3",
   "version": "3.11.5"
  },
  "orig_nbformat": 4
 },
 "nbformat": 4,
 "nbformat_minor": 2
}
